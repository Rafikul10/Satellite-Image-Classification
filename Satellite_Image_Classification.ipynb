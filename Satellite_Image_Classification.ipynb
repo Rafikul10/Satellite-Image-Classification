{
  "nbformat": 4,
  "nbformat_minor": 0,
  "metadata": {
    "colab": {
      "provenance": [],
      "mount_file_id": "150BrRb1cLaF75J46gYnod_vv5G7IpxYd",
      "authorship_tag": "ABX9TyP8rMjf2b4Y9myBs2zZ+CNS",
      "include_colab_link": true
    },
    "kernelspec": {
      "name": "python3",
      "display_name": "Python 3"
    },
    "language_info": {
      "name": "python"
    },
    "accelerator": "GPU"
  },
  "cells": [
    {
      "cell_type": "markdown",
      "metadata": {
        "id": "view-in-github",
        "colab_type": "text"
      },
      "source": [
        "<a href=\"https://colab.research.google.com/github/Rafikul10/Satellite-Image-Classification/blob/main/Satellite_Image_Classification.ipynb\" target=\"_parent\"><img src=\"https://colab.research.google.com/assets/colab-badge.svg\" alt=\"Open In Colab\"/></a>"
      ]
    },
    {
      "cell_type": "markdown",
      "source": [
        "# **Import Libaries**"
      ],
      "metadata": {
        "id": "LdUCqUcjco_o"
      }
    },
    {
      "cell_type": "code",
      "execution_count": 1,
      "metadata": {
        "id": "ya4ufve6cHUC"
      },
      "outputs": [],
      "source": [
        "import numpy as np\n",
        "import pandas as pd\n",
        "import seaborn as sns\n",
        "import matplotlib.pyplot as plt\n",
        "%matplotlib inline\n",
        "plt.show()"
      ]
    },
    {
      "cell_type": "code",
      "source": [
        "from keras.layers import Input, Lambda, Dense, Flatten,Conv2D,Layer\n",
        "from keras.models import Model\n",
        "#from keras.applications.vgg16 import VGG16\n",
        "from keras.applications.vgg19 import VGG19\n",
        "from keras.applications.vgg16 import preprocess_input\n",
        "from keras.preprocessing import image\n",
        "from keras.preprocessing.image import ImageDataGenerator\n",
        "from keras.models import Sequential\n",
        "import numpy as np\n",
        "from glob import glob\n",
        "import matplotlib.pyplot as plt"
      ],
      "metadata": {
        "id": "fTCGl9vmjBgi"
      },
      "execution_count": 2,
      "outputs": []
    },
    {
      "cell_type": "code",
      "source": [
        "from google.colab import drive\n",
        "drive.mount('/content/drive')"
      ],
      "metadata": {
        "colab": {
          "base_uri": "https://localhost:8080/"
        },
        "id": "ayqsSu-odcfv",
        "outputId": "211a6ca6-3d42-4f4c-9bea-0c43ea018bc3"
      },
      "execution_count": 3,
      "outputs": [
        {
          "output_type": "stream",
          "name": "stdout",
          "text": [
            "Drive already mounted at /content/drive; to attempt to forcibly remount, call drive.mount(\"/content/drive\", force_remount=True).\n"
          ]
        }
      ]
    },
    {
      "cell_type": "code",
      "source": [
        "data=\"/content/drive/MyDrive/ColabNotebooks/Satellite_Image/Satellite Image Classification/data\""
      ],
      "metadata": {
        "id": "VbCo_-qed1OA"
      },
      "execution_count": 4,
      "outputs": []
    },
    {
      "cell_type": "code",
      "source": [
        "IMAGE_SIZE=[224,224]"
      ],
      "metadata": {
        "id": "3VD3aMOreQnA"
      },
      "execution_count": 5,
      "outputs": []
    },
    {
      "cell_type": "code",
      "source": [
        "vgg19=VGG19(input_shape=IMAGE_SIZE +[3],weights=\"imagenet\",include_top=False)"
      ],
      "metadata": {
        "colab": {
          "base_uri": "https://localhost:8080/"
        },
        "id": "dMJg2tqseXb4",
        "outputId": "a91a08f0-ab05-41a8-e82d-58c587a39fbd"
      },
      "execution_count": 6,
      "outputs": [
        {
          "output_type": "stream",
          "name": "stdout",
          "text": [
            "Downloading data from https://storage.googleapis.com/tensorflow/keras-applications/vgg19/vgg19_weights_tf_dim_ordering_tf_kernels_notop.h5\n",
            "80142336/80134624 [==============================] - 2s 0us/step\n",
            "80150528/80134624 [==============================] - 2s 0us/step\n"
          ]
        }
      ]
    },
    {
      "cell_type": "code",
      "source": [
        "for layer in vgg19.layers:\n",
        "  layer.trainable = False"
      ],
      "metadata": {
        "id": "iedVUQdreppv"
      },
      "execution_count": 7,
      "outputs": []
    },
    {
      "cell_type": "code",
      "source": [
        "folders = glob(\"/content/drive/MyDrive/ColabNotebooks/Satellite_Image/Satellite Image Classification/data/*\")"
      ],
      "metadata": {
        "id": "edeAhEPAepm-"
      },
      "execution_count": 8,
      "outputs": []
    },
    {
      "cell_type": "code",
      "source": [
        "folders"
      ],
      "metadata": {
        "colab": {
          "base_uri": "https://localhost:8080/"
        },
        "id": "fu2AuyuQepkG",
        "outputId": "1705272a-788f-4b16-bbb4-c1209e47bd61"
      },
      "execution_count": 9,
      "outputs": [
        {
          "output_type": "execute_result",
          "data": {
            "text/plain": [
              "['/content/drive/MyDrive/ColabNotebooks/Satellite_Image/Satellite Image Classification/data/water',\n",
              " '/content/drive/MyDrive/ColabNotebooks/Satellite_Image/Satellite Image Classification/data/green_area',\n",
              " '/content/drive/MyDrive/ColabNotebooks/Satellite_Image/Satellite Image Classification/data/desert',\n",
              " '/content/drive/MyDrive/ColabNotebooks/Satellite_Image/Satellite Image Classification/data/cloudy']"
            ]
          },
          "metadata": {},
          "execution_count": 9
        }
      ]
    },
    {
      "cell_type": "code",
      "source": [
        "x=Flatten()(vgg19.output)"
      ],
      "metadata": {
        "id": "OjCslesIephG"
      },
      "execution_count": 10,
      "outputs": []
    },
    {
      "cell_type": "code",
      "source": [
        "prediction= Dense(len(folders),activation=\"softmax\")(x)"
      ],
      "metadata": {
        "id": "NcQmPCynepeW"
      },
      "execution_count": 11,
      "outputs": []
    },
    {
      "cell_type": "code",
      "source": [
        "model=Model(inputs=vgg19.input,outputs=prediction)"
      ],
      "metadata": {
        "id": "bDZ03eZlepbQ"
      },
      "execution_count": 12,
      "outputs": []
    },
    {
      "cell_type": "code",
      "source": [
        "model.summary()"
      ],
      "metadata": {
        "colab": {
          "base_uri": "https://localhost:8080/"
        },
        "id": "-pP8lVFNepYa",
        "outputId": "a15ad3e7-50d4-4fb6-a896-90cf9e901218"
      },
      "execution_count": 13,
      "outputs": [
        {
          "output_type": "stream",
          "name": "stdout",
          "text": [
            "Model: \"model\"\n",
            "_________________________________________________________________\n",
            " Layer (type)                Output Shape              Param #   \n",
            "=================================================================\n",
            " input_1 (InputLayer)        [(None, 224, 224, 3)]     0         \n",
            "                                                                 \n",
            " block1_conv1 (Conv2D)       (None, 224, 224, 64)      1792      \n",
            "                                                                 \n",
            " block1_conv2 (Conv2D)       (None, 224, 224, 64)      36928     \n",
            "                                                                 \n",
            " block1_pool (MaxPooling2D)  (None, 112, 112, 64)      0         \n",
            "                                                                 \n",
            " block2_conv1 (Conv2D)       (None, 112, 112, 128)     73856     \n",
            "                                                                 \n",
            " block2_conv2 (Conv2D)       (None, 112, 112, 128)     147584    \n",
            "                                                                 \n",
            " block2_pool (MaxPooling2D)  (None, 56, 56, 128)       0         \n",
            "                                                                 \n",
            " block3_conv1 (Conv2D)       (None, 56, 56, 256)       295168    \n",
            "                                                                 \n",
            " block3_conv2 (Conv2D)       (None, 56, 56, 256)       590080    \n",
            "                                                                 \n",
            " block3_conv3 (Conv2D)       (None, 56, 56, 256)       590080    \n",
            "                                                                 \n",
            " block3_conv4 (Conv2D)       (None, 56, 56, 256)       590080    \n",
            "                                                                 \n",
            " block3_pool (MaxPooling2D)  (None, 28, 28, 256)       0         \n",
            "                                                                 \n",
            " block4_conv1 (Conv2D)       (None, 28, 28, 512)       1180160   \n",
            "                                                                 \n",
            " block4_conv2 (Conv2D)       (None, 28, 28, 512)       2359808   \n",
            "                                                                 \n",
            " block4_conv3 (Conv2D)       (None, 28, 28, 512)       2359808   \n",
            "                                                                 \n",
            " block4_conv4 (Conv2D)       (None, 28, 28, 512)       2359808   \n",
            "                                                                 \n",
            " block4_pool (MaxPooling2D)  (None, 14, 14, 512)       0         \n",
            "                                                                 \n",
            " block5_conv1 (Conv2D)       (None, 14, 14, 512)       2359808   \n",
            "                                                                 \n",
            " block5_conv2 (Conv2D)       (None, 14, 14, 512)       2359808   \n",
            "                                                                 \n",
            " block5_conv3 (Conv2D)       (None, 14, 14, 512)       2359808   \n",
            "                                                                 \n",
            " block5_conv4 (Conv2D)       (None, 14, 14, 512)       2359808   \n",
            "                                                                 \n",
            " block5_pool (MaxPooling2D)  (None, 7, 7, 512)         0         \n",
            "                                                                 \n",
            " flatten (Flatten)           (None, 25088)             0         \n",
            "                                                                 \n",
            " dense (Dense)               (None, 4)                 100356    \n",
            "                                                                 \n",
            "=================================================================\n",
            "Total params: 20,124,740\n",
            "Trainable params: 100,356\n",
            "Non-trainable params: 20,024,384\n",
            "_________________________________________________________________\n"
          ]
        }
      ]
    },
    {
      "cell_type": "code",
      "source": [
        "model.compile(loss=\"categorical_crossentropy\",optimizer=\"adam\",metrics=[\"accuracy\"])"
      ],
      "metadata": {
        "id": "SxIy9q_lepVT"
      },
      "execution_count": 14,
      "outputs": []
    },
    {
      "cell_type": "code",
      "source": [
        "from keras.preprocessing.image import ImageDataGenerator\n",
        "train_data=ImageDataGenerator(rescale=1./255,\n",
        "                              shear_range=0.2,\n",
        "                              zoom_range=0.1,\n",
        "                              horizontal_flip=True\n",
        ")"
      ],
      "metadata": {
        "id": "uxdvcjMdepSo"
      },
      "execution_count": 15,
      "outputs": []
    },
    {
      "cell_type": "code",
      "source": [
        "train_set=train_data.flow_from_directory(\"/content/drive/MyDrive/ColabNotebooks/Satellite_Image/Satellite Image Classification/data\",\n",
        "                                         target_size=(224,224),\n",
        "                                         batch_size=32,\n",
        "                                         class_mode=\"categorical\"\n",
        "                                         )"
      ],
      "metadata": {
        "colab": {
          "base_uri": "https://localhost:8080/"
        },
        "id": "RsKRKpioepQV",
        "outputId": "f9fd45d6-2246-4450-fc75-2fe02e2e8669"
      },
      "execution_count": 16,
      "outputs": [
        {
          "output_type": "stream",
          "name": "stdout",
          "text": [
            "Found 5631 images belonging to 4 classes.\n"
          ]
        }
      ]
    },
    {
      "cell_type": "code",
      "source": [
        "r= model.fit_generator(train_set,\n",
        "                       epochs=10,\n",
        "                       steps_per_epoch=10\n",
        "                       )"
      ],
      "metadata": {
        "colab": {
          "base_uri": "https://localhost:8080/"
        },
        "id": "61_XIXUBepNP",
        "outputId": "94a8fafc-62c9-4ba4-d70b-856ede6b5722"
      },
      "execution_count": 17,
      "outputs": [
        {
          "output_type": "stream",
          "name": "stderr",
          "text": [
            "/usr/local/lib/python3.7/dist-packages/ipykernel_launcher.py:3: UserWarning: `Model.fit_generator` is deprecated and will be removed in a future version. Please use `Model.fit`, which supports generators.\n",
            "  This is separate from the ipykernel package so we can avoid doing imports until\n"
          ]
        },
        {
          "output_type": "stream",
          "name": "stdout",
          "text": [
            "Epoch 1/10\n",
            "10/10 [==============================] - 172s 14s/step - loss: 2.1218 - accuracy: 0.2906\n",
            "Epoch 2/10\n",
            "10/10 [==============================] - 141s 14s/step - loss: 1.3396 - accuracy: 0.3906\n",
            "Epoch 3/10\n",
            "10/10 [==============================] - 127s 13s/step - loss: 1.0348 - accuracy: 0.5250\n",
            "Epoch 4/10\n",
            "10/10 [==============================] - 112s 11s/step - loss: 0.7995 - accuracy: 0.7500\n",
            "Epoch 5/10\n",
            "10/10 [==============================] - 110s 11s/step - loss: 0.6900 - accuracy: 0.8000\n",
            "Epoch 6/10\n",
            "10/10 [==============================] - 103s 10s/step - loss: 0.5756 - accuracy: 0.8719\n",
            "Epoch 7/10\n",
            "10/10 [==============================] - 99s 10s/step - loss: 0.5326 - accuracy: 0.8313\n",
            "Epoch 8/10\n",
            "10/10 [==============================] - 93s 9s/step - loss: 0.5442 - accuracy: 0.7906\n",
            "Epoch 9/10\n",
            "10/10 [==============================] - 79s 8s/step - loss: 0.5499 - accuracy: 0.7781\n",
            "Epoch 10/10\n",
            "10/10 [==============================] - 85s 9s/step - loss: 0.3949 - accuracy: 0.9281\n"
          ]
        }
      ]
    },
    {
      "cell_type": "code",
      "source": [
        "import cv2\n",
        "import tensorflow as tf \n",
        "from keras.models import Sequential \n",
        "from keras.layers import Dense,Flatten,Conv2D,MaxPooling2D, GlobalAveragePooling2D\n",
        "from keras.preprocessing.image import ImageDataGenerator, load_img \n",
        "from IPython import display"
      ],
      "metadata": {
        "id": "QfO8ycMZR3HD"
      },
      "execution_count": 52,
      "outputs": []
    },
    {
      "cell_type": "code",
      "source": [
        "#Predcition function\n",
        "def predict_classes(link): \n",
        "    img = cv2.imread(link)\n",
        "    img = cv2.resize(img,(224,224))\n",
        "    img = img/255\n",
        "    img = img.reshape(-1,224,224,3)    # -1 is  for reshaping basically \n",
        "    pred = np.round(model.predict(img)).argmax(axis = 1)\n",
        "    dic = {0: 'Cloudy', 1: 'Desert', 2: 'Green Area', 3: 'Water'}\n",
        "    print(dic.get(int(pred)))"
      ],
      "metadata": {
        "id": "AzHozis-RI98"
      },
      "execution_count": 53,
      "outputs": []
    },
    {
      "cell_type": "code",
      "source": [
        "predict_classes(\"/content/drive/MyDrive/cloud.jpg\")"
      ],
      "metadata": {
        "colab": {
          "base_uri": "https://localhost:8080/"
        },
        "id": "6lO7l3fNhfUm",
        "outputId": "025ef7d5-f6d3-4167-c17e-ae3ea1e126b2"
      },
      "execution_count": 55,
      "outputs": [
        {
          "output_type": "stream",
          "name": "stdout",
          "text": [
            "cloudy\n"
          ]
        }
      ]
    }
  ]
}